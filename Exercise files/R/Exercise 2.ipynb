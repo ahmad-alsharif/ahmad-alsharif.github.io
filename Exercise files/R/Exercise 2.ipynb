{
 "cells": [
  {
   "cell_type": "markdown",
   "id": "669229da-ddd6-4c9a-96bb-4f74e3e19208",
   "metadata": {},
   "source": [
    "## **Scenario One**\n",
    "\n",
    "\n",
    "You have been told that there is a correlation between coffee consumption and blood pressure. In order to statistically test the relationship you have collected data from 48 coffee drinkers, including the number of cups of coffee they have consumed and their blood pressures. Now you want to run a linear regression to see if there is any relationship between coffee consumption and blood pressure."
   ]
  },
  {
   "cell_type": "markdown",
   "id": "732aac70-8271-4f51-94ce-9bc350371e76",
   "metadata": {},
   "source": [
    "## **Tasks**\n",
    "\n",
    "Use the dataset on the “Coffee & Blood Pressure” tab of the datasheet to complete the following\n",
    "\r\n",
    "1. Find the estimated regression line\r\n",
    "2. Find the correlation between coffee consumption and blood pressure.\r\n",
    "3. Describe the relationship between coffee consumption and blood pressure and explain what someone should do if their doctor says that their blood pressure is a concern."
   ]
  },
  {
   "cell_type": "code",
   "execution_count": null,
   "id": "2dcd7384-2d3d-4177-ad7f-ec3997f82979",
   "metadata": {},
   "outputs": [],
   "source": [
    "install.packages(\"ggplot2\")\n",
    "install.packages(\"ggpubr\")\n",
    "library(tidyverse)\n",
    "library(dplyr)\n",
    "library(tidyr)\n",
    "library(ggplot2)\n",
    "library(ggpubr)\n",
    "\n",
    "#### Importing the Coffee & Blood pressure Dataset ####\n",
    "coffee <- read_csv('E:/Data Analysis/SAIT/DATA 420 - Predictive Analytics/Datasets/coffee_bloodPressure.csv')\n",
    "coffee\n",
    "\n",
    "#### Cleaning data ####\n",
    "colnames(coffee)\n",
    "colnames(coffee) <- c('CupsOfCoffee', 'BloodPressure')\n",
    "coffee <- coffee\n",
    "\n",
    "#### Coffee & Blood pressure Plot & Regression Line ####\n",
    "coffee %>% \n",
    "  ggplot(aes(x=CupsOfCoffee,y=BloodPressure))+\n",
    "  geom_point(aes(colour = CupsOfCoffee))\n",
    "\n",
    "?lm\n",
    "Regline <- lm(BloodPressure ~ CupsOfCoffee, data = coffee)\n",
    "\n",
    "plot(coffee$CupsOfCoffee, coffee$BloodPressure,\n",
    "     Main='Coffee & Blood Pressure Plot',\n",
    "     xlab='Number of Coffee Cups',\n",
    "     ylab='Rate of Blood Pressure')\n",
    "?abline\n",
    "abline(Regline, col=\"blue\")\n",
    "\n",
    "?ggplot\n",
    "?geom_point\n",
    "?geom_smooth\n",
    "ggplot(coffee, aes(x=CupsOfCoffee, y=BloodPressure))+\n",
    "  geom_point()+\n",
    "  geom_smooth(method = 'lm', color = 'blue')"
   ]
  },
  {
   "cell_type": "code",
   "execution_count": null,
   "id": "df4fb3a6-aa67-45dd-9cac-bf7abc43839b",
   "metadata": {},
   "outputs": [],
   "source": [
    "#### Finding the correlation between coffee consumption and blood pressure. ####\n",
    "?cor\n",
    "\n",
    "cor(coffee$CupsOfCoffee, coffee$BloodPressure)\n",
    "## Answer is: 0.2884135"
   ]
  },
  {
   "cell_type": "code",
   "execution_count": 66,
   "id": "40e19962-743d-4990-939c-ddd7bed89b02",
   "metadata": {},
   "outputs": [],
   "source": [
    "# Based on the Regression line, it is evident that the increase in number of cups of coffee results in an increase in Blood Pressure\n",
    "# They should immediately cut down their coffee consumption"
   ]
  },
  {
   "cell_type": "markdown",
   "id": "1303f375-25c9-4b11-94a4-8084f272aab9",
   "metadata": {},
   "source": [
    "## **Scenario Two**\n",
    "\n",
    "Bright Smile Corporation provides dental services to their clients. They have been in business for a number of years, but recently they have experienced competition from other dental service providers who provide mobile dental services to their clients. Mobile services are all about providing basic dental services at clients' homes. Bright Smile has a dilemma, as they are unsure if the mobile service is a good inversion and/or expansion."
   ]
  },
  {
   "cell_type": "markdown",
   "id": "8e1d640f-271e-4fe4-b9c3-b6fec2f65b8c",
   "metadata": {},
   "source": [
    "## **Tasks**\n",
    "\n",
    "Use the dataset on the “Bright Smile Corporation” tab of the datasheet to complete the following:\r\n",
    "1. Show a graph (scatter) with linear progression.\r\n",
    "2. Analyze the data and add a trendline.\r\n",
    "3. Display the equation on the chart (data correlation)."
   ]
  },
  {
   "cell_type": "code",
   "execution_count": null,
   "id": "7dd09745-fef5-4f93-9f6b-69683b4d9f10",
   "metadata": {},
   "outputs": [],
   "source": [
    "#### Import and Clean Data ####\n",
    "dental <- read_csv('E:/Data Analysis/SAIT/DATA 420 - Predictive Analytics/Datasets/dentalService.csv')\n",
    "print(dental, n=5)\n",
    "\n",
    "?gsub\n",
    "\n",
    "dental <- dental %>% \n",
    "    mutate(Income=as.numeric(gsub(\"\\\\$\", \"\",`Income (K)`))*1000,\n",
    "           DentistVisits=`Dentist (# Visits)`,\n",
    "           Price=as.numeric(gsub(\"\\\\$\", \"\", Price)))\n",
    "\n",
    "dental <- dental %>% \n",
    "  select(Income, DentistVisits, Price)\n",
    "\n",
    "print(dental, n=5)"
   ]
  },
  {
   "cell_type": "code",
   "execution_count": null,
   "id": "85283c42-2f34-4986-bc12-6659313c31ff",
   "metadata": {},
   "outputs": [],
   "source": [
    "#### Scatter Graph ####\n",
    "plot(dental)"
   ]
  },
  {
   "cell_type": "code",
   "execution_count": null,
   "id": "ccd5aef1-8ff2-4f5e-977b-cdd7a737931c",
   "metadata": {},
   "outputs": [],
   "source": [
    "#### Scatter Graph with linear progression ####\n",
    "?ggplot\n",
    "?geom_point\n",
    "?geom_smooth\n",
    "ggplot(dental, aes(x=Income, y=DentistVisits))+\n",
    "  geom_point()+\n",
    "  geom_smooth(method='lm', color=\"purple\")+\n",
    "  labs(title = \"Scattered Graph\", x=\"Income\", y=\"Number of Dentist Visits\")\n",
    "\n",
    "view(dental)"
   ]
  },
  {
   "cell_type": "code",
   "execution_count": null,
   "id": "8bf9a89c-087c-4872-b464-fc2171650ab9",
   "metadata": {},
   "outputs": [],
   "source": [
    "#### Correlation and display the equation on the chart ####\n",
    "?cor()\n",
    "cor(dental$Income, dental$Price)\n",
    "#Correlation = 0.7414124\n",
    "\n",
    "ggplot(dental, aes(x = Income, y = Price)) +\n",
    "  geom_point() +\n",
    "  geom_smooth(method = \"lm\", se = FALSE) +\n",
    "  stat_regline_equation(label.x = 150000, label.y = 150) +\n",
    "  stat_cor(aes(label = ..rr.label..), label.x = 150000, label.y = 140) +\n",
    "  labs(title = \"Income vs Price (Trendline and Equation)\", x = \"Income\", y = \"Price\")"
   ]
  }
 ],
 "metadata": {
  "kernelspec": {
   "display_name": "R",
   "language": "R",
   "name": "ir"
  },
  "language_info": {
   "codemirror_mode": "r",
   "file_extension": ".r",
   "mimetype": "text/x-r-source",
   "name": "R",
   "pygments_lexer": "r",
   "version": "3.6.1"
  }
 },
 "nbformat": 4,
 "nbformat_minor": 5
}

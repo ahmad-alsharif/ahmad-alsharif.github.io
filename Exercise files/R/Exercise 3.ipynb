{
 "cells": [
  {
   "cell_type": "markdown",
   "id": "8b221ff1-8db6-4b31-9f7c-f6b9aa41058e",
   "metadata": {},
   "source": [
    "## **Scenario**\n",
    "\n",
    "\n",
    "The mammal_sleep dataset contains information on sleep habits for 83 mammals. Features include total sleep, length of the sleep cycle, time spent awake, brain weight, and body weight. Animals are also labeled with their name, genus, and conservation status."
   ]
  },
  {
   "cell_type": "markdown",
   "id": "cc8e3c6b-abf8-49a0-9f80-1649749c8fe7",
   "metadata": {},
   "source": [
    "## **Tasks**\n",
    "\n",
    "Load the dataset msleep.csv into a data frame. \n",
    "1. Load the dataset msleep.csv into a data frame."
   ]
  },
  {
   "cell_type": "code",
   "execution_count": null,
   "id": "ac10689a-fd54-4fa3-ae8f-e907b1484dd9",
   "metadata": {},
   "outputs": [],
   "source": [
    "#### Loading msleep.csv into a data frame ####\n",
    "mammal.sleep <- data.frame(msleep)\n",
    "mammal.sleep <- na.omit(mammal.sleep)\n",
    "view(mammal.sleep)"
   ]
  },
  {
   "cell_type": "markdown",
   "id": "2a83961b-fa16-4feb-8ca4-85fcba338ccf",
   "metadata": {},
   "source": [
    "2. Create a new data frame mammalSleep with sleep_total and sleep_rem."
   ]
  },
  {
   "cell_type": "code",
   "execution_count": null,
   "id": "be9a1747-3615-4466-87af-e20984eaaaee",
   "metadata": {},
   "outputs": [],
   "source": [
    "#### New data frame mammalSLeep with sleep_total and sleep_rem ####\n",
    "mammalSleep <- mammal.sleep[, c(\"sleep_total\", \"sleep_rem\")]"
   ]
  },
  {
   "cell_type": "markdown",
   "id": "96a78101-21ac-4d32-8643-ff4b066ef9bc",
   "metadata": {},
   "source": [
    "3. Fit a k-means clustering model with 4 clusters to the data subset mammalSleep."
   ]
  },
  {
   "cell_type": "code",
   "execution_count": null,
   "id": "fe0bce0f-b14c-4564-aa3d-d14a2bd0d1e6",
   "metadata": {},
   "outputs": [],
   "source": [
    "#### Fit a k-means clustering model with 4 clusters to the data subset mammalSleep ####\n",
    "kresult <- kmeans(mammalSleep, centers=4)\n",
    "\n",
    "?kmeans\n",
    "kresult <- kmeans(mammalSleep, centers=4)\n",
    "kresult"
   ]
  },
  {
   "cell_type": "markdown",
   "id": "f376385d-2f53-4c62-a55a-7ebbbc4cb8d6",
   "metadata": {},
   "source": [
    "4. Find the centroids of the clusters in the model"
   ]
  },
  {
   "cell_type": "code",
   "execution_count": null,
   "id": "cd1b43ce-5dc7-49d3-a5e0-d9763236b4dc",
   "metadata": {},
   "outputs": [],
   "source": [
    "centroids <- kresult$centers\n",
    "\n",
    "print(centroids)"
   ]
  },
  {
   "cell_type": "code",
   "execution_count": null,
   "id": "8e2f37bb-7d44-4a7b-94c5-7a47aaf853c3",
   "metadata": {},
   "outputs": [],
   "source": [
    "#### Visualization ####\n",
    "cluster.factor <- as_factor(kresult$cluster)\n",
    "\n",
    "ggplot(mammalSleep, aes(x=sleep_total, y=sleep_rem, color = kresult$cluster)) +\n",
    "  geom_point(aes(shape = cluster.factor))+\n",
    "  ggtitle('Kmean Clustering')\n",
    "\n",
    "plot(mammalSleep, pch=kresult$cluster, col=kresult$cluster, main='Kmean Clustering')\n",
    "points(kresult$centers, pch=10, cex=2)"
   ]
  }
 ],
 "metadata": {
  "kernelspec": {
   "display_name": "R",
   "language": "R",
   "name": "ir"
  },
  "language_info": {
   "codemirror_mode": "r",
   "file_extension": ".r",
   "mimetype": "text/x-r-source",
   "name": "R",
   "pygments_lexer": "r",
   "version": "3.6.1"
  }
 },
 "nbformat": 4,
 "nbformat_minor": 5
}

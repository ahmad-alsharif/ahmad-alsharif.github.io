{
 "cells": [
  {
   "cell_type": "code",
   "execution_count": 5,
   "id": "2bd57c58-8563-42a7-9483-13f67465279d",
   "metadata": {
    "vscode": {
     "languageId": "r"
    }
   },
   "outputs": [
    {
     "name": "stderr",
     "output_type": "stream",
     "text": [
      "Registered S3 methods overwritten by 'ggplot2':\n",
      "  method         from \n",
      "  [.quosures     rlang\n",
      "  c.quosures     rlang\n",
      "  print.quosures rlang\n",
      "Registered S3 method overwritten by 'rvest':\n",
      "  method            from\n",
      "  read_xml.response xml2\n",
      "-- Attaching packages --------------------------------------- tidyverse 1.2.1 --\n",
      "v ggplot2 3.1.1       v purrr   0.3.2  \n",
      "v tibble  2.1.1       v dplyr   0.8.0.1\n",
      "v tidyr   0.8.3       v stringr 1.4.0  \n",
      "v readr   1.3.1       v forcats 0.4.0  \n",
      "-- Conflicts ------------------------------------------ tidyverse_conflicts() --\n",
      "x dplyr::filter() masks stats::filter()\n",
      "x dplyr::lag()    masks stats::lag()\n"
     ]
    }
   ],
   "source": [
    "library(tidyverse)\n",
    "library(dplyr)"
   ]
  },
  {
   "cell_type": "markdown",
   "id": "28724ec2-0163-467b-aac2-20fbd40afcaa",
   "metadata": {},
   "source": [
    "### 1. Load the dataset in titanic.csv as titanic."
   ]
  },
  {
   "cell_type": "code",
   "execution_count": 1,
   "id": "3c48caee-afc3-4bfc-a02b-2e8a0d11aff5",
   "metadata": {
    "vscode": {
     "languageId": "r"
    }
   },
   "outputs": [],
   "source": [
    "titanic <- read.csv(\"E:/Data Analysis/SAIT/DATA 420 - Predictive Analytics/titanic.csv\")"
   ]
  },
  {
   "cell_type": "code",
   "execution_count": 11,
   "id": "72b6c57b-2233-4b05-8fdf-5e5e2a262101",
   "metadata": {
    "vscode": {
     "languageId": "r"
    }
   },
   "outputs": [],
   "source": [
    "titanic <- na.omit(titanic)"
   ]
  },
  {
   "cell_type": "code",
   "execution_count": 13,
   "id": "fc3fb48e-c6b2-49cc-a45b-9e5860ea0a02",
   "metadata": {
    "vscode": {
     "languageId": "r"
    }
   },
   "outputs": [
    {
     "data": {
      "text/html": [
       "<table>\n",
       "<thead><tr><th></th><th scope=col>survived</th><th scope=col>pclass</th><th scope=col>sex</th><th scope=col>age</th><th scope=col>sibsp</th><th scope=col>parch</th><th scope=col>fare</th><th scope=col>embarked</th><th scope=col>class</th><th scope=col>who</th><th scope=col>adult_male</th><th scope=col>deck</th><th scope=col>embark_town</th><th scope=col>alive</th><th scope=col>alone</th></tr></thead>\n",
       "<tbody>\n",
       "\t<tr><th scope=row>1</th><td>0          </td><td>3          </td><td>male       </td><td>22         </td><td>1          </td><td>0          </td><td>  7.2500   </td><td>S          </td><td>Third      </td><td>man        </td><td> TRUE      </td><td>           </td><td>Southampton</td><td>no         </td><td>FALSE      </td></tr>\n",
       "\t<tr><th scope=row>2</th><td>1          </td><td>1          </td><td>female     </td><td>38         </td><td>1          </td><td>0          </td><td> 71.2833   </td><td>C          </td><td>First      </td><td>woman      </td><td>FALSE      </td><td>C          </td><td>Cherbourg  </td><td>yes        </td><td>FALSE      </td></tr>\n",
       "\t<tr><th scope=row>3</th><td>1          </td><td>3          </td><td>female     </td><td>26         </td><td>0          </td><td>0          </td><td>  7.9250   </td><td>S          </td><td>Third      </td><td>woman      </td><td>FALSE      </td><td>           </td><td>Southampton</td><td>yes        </td><td> TRUE      </td></tr>\n",
       "\t<tr><th scope=row>4</th><td>1          </td><td>1          </td><td>female     </td><td>35         </td><td>1          </td><td>0          </td><td> 53.1000   </td><td>S          </td><td>First      </td><td>woman      </td><td>FALSE      </td><td>C          </td><td>Southampton</td><td>yes        </td><td>FALSE      </td></tr>\n",
       "\t<tr><th scope=row>5</th><td>0          </td><td>3          </td><td>male       </td><td>35         </td><td>0          </td><td>0          </td><td>  8.0500   </td><td>S          </td><td>Third      </td><td>man        </td><td> TRUE      </td><td>           </td><td>Southampton</td><td>no         </td><td> TRUE      </td></tr>\n",
       "\t<tr><th scope=row>7</th><td>0          </td><td>1          </td><td>male       </td><td>54         </td><td>0          </td><td>0          </td><td> 51.8625   </td><td>S          </td><td>First      </td><td>man        </td><td> TRUE      </td><td>E          </td><td>Southampton</td><td>no         </td><td> TRUE      </td></tr>\n",
       "\t<tr><th scope=row>8</th><td>0          </td><td>3          </td><td>male       </td><td> 2         </td><td>3          </td><td>1          </td><td> 21.0750   </td><td>S          </td><td>Third      </td><td>child      </td><td>FALSE      </td><td>           </td><td>Southampton</td><td>no         </td><td>FALSE      </td></tr>\n",
       "\t<tr><th scope=row>9</th><td>1          </td><td>3          </td><td>female     </td><td>27         </td><td>0          </td><td>2          </td><td> 11.1333   </td><td>S          </td><td>Third      </td><td>woman      </td><td>FALSE      </td><td>           </td><td>Southampton</td><td>yes        </td><td>FALSE      </td></tr>\n",
       "\t<tr><th scope=row>10</th><td>1          </td><td>2          </td><td>female     </td><td>14         </td><td>1          </td><td>0          </td><td> 30.0708   </td><td>C          </td><td>Second     </td><td>child      </td><td>FALSE      </td><td>           </td><td>Cherbourg  </td><td>yes        </td><td>FALSE      </td></tr>\n",
       "\t<tr><th scope=row>11</th><td>1          </td><td>3          </td><td>female     </td><td> 4         </td><td>1          </td><td>1          </td><td> 16.7000   </td><td>S          </td><td>Third      </td><td>child      </td><td>FALSE      </td><td>G          </td><td>Southampton</td><td>yes        </td><td>FALSE      </td></tr>\n",
       "\t<tr><th scope=row>12</th><td>1          </td><td>1          </td><td>female     </td><td>58         </td><td>0          </td><td>0          </td><td> 26.5500   </td><td>S          </td><td>First      </td><td>woman      </td><td>FALSE      </td><td>C          </td><td>Southampton</td><td>yes        </td><td> TRUE      </td></tr>\n",
       "\t<tr><th scope=row>13</th><td>0          </td><td>3          </td><td>male       </td><td>20         </td><td>0          </td><td>0          </td><td>  8.0500   </td><td>S          </td><td>Third      </td><td>man        </td><td> TRUE      </td><td>           </td><td>Southampton</td><td>no         </td><td> TRUE      </td></tr>\n",
       "\t<tr><th scope=row>14</th><td>0          </td><td>3          </td><td>male       </td><td>39         </td><td>1          </td><td>5          </td><td> 31.2750   </td><td>S          </td><td>Third      </td><td>man        </td><td> TRUE      </td><td>           </td><td>Southampton</td><td>no         </td><td>FALSE      </td></tr>\n",
       "\t<tr><th scope=row>15</th><td>0          </td><td>3          </td><td>female     </td><td>14         </td><td>0          </td><td>0          </td><td>  7.8542   </td><td>S          </td><td>Third      </td><td>child      </td><td>FALSE      </td><td>           </td><td>Southampton</td><td>no         </td><td> TRUE      </td></tr>\n",
       "\t<tr><th scope=row>16</th><td>1          </td><td>2          </td><td>female     </td><td>55         </td><td>0          </td><td>0          </td><td> 16.0000   </td><td>S          </td><td>Second     </td><td>woman      </td><td>FALSE      </td><td>           </td><td>Southampton</td><td>yes        </td><td> TRUE      </td></tr>\n",
       "\t<tr><th scope=row>17</th><td>0          </td><td>3          </td><td>male       </td><td> 2         </td><td>4          </td><td>1          </td><td> 29.1250   </td><td>Q          </td><td>Third      </td><td>child      </td><td>FALSE      </td><td>           </td><td>Queenstown </td><td>no         </td><td>FALSE      </td></tr>\n",
       "\t<tr><th scope=row>19</th><td>0          </td><td>3          </td><td>female     </td><td>31         </td><td>1          </td><td>0          </td><td> 18.0000   </td><td>S          </td><td>Third      </td><td>woman      </td><td>FALSE      </td><td>           </td><td>Southampton</td><td>no         </td><td>FALSE      </td></tr>\n",
       "\t<tr><th scope=row>21</th><td>0          </td><td>2          </td><td>male       </td><td>35         </td><td>0          </td><td>0          </td><td> 26.0000   </td><td>S          </td><td>Second     </td><td>man        </td><td> TRUE      </td><td>           </td><td>Southampton</td><td>no         </td><td> TRUE      </td></tr>\n",
       "\t<tr><th scope=row>22</th><td>1          </td><td>2          </td><td>male       </td><td>34         </td><td>0          </td><td>0          </td><td> 13.0000   </td><td>S          </td><td>Second     </td><td>man        </td><td> TRUE      </td><td>D          </td><td>Southampton</td><td>yes        </td><td> TRUE      </td></tr>\n",
       "\t<tr><th scope=row>23</th><td>1          </td><td>3          </td><td>female     </td><td>15         </td><td>0          </td><td>0          </td><td>  8.0292   </td><td>Q          </td><td>Third      </td><td>child      </td><td>FALSE      </td><td>           </td><td>Queenstown </td><td>yes        </td><td> TRUE      </td></tr>\n",
       "\t<tr><th scope=row>24</th><td>1          </td><td>1          </td><td>male       </td><td>28         </td><td>0          </td><td>0          </td><td> 35.5000   </td><td>S          </td><td>First      </td><td>man        </td><td> TRUE      </td><td>A          </td><td>Southampton</td><td>yes        </td><td> TRUE      </td></tr>\n",
       "\t<tr><th scope=row>25</th><td>0          </td><td>3          </td><td>female     </td><td> 8         </td><td>3          </td><td>1          </td><td> 21.0750   </td><td>S          </td><td>Third      </td><td>child      </td><td>FALSE      </td><td>           </td><td>Southampton</td><td>no         </td><td>FALSE      </td></tr>\n",
       "\t<tr><th scope=row>26</th><td>1          </td><td>3          </td><td>female     </td><td>38         </td><td>1          </td><td>5          </td><td> 31.3875   </td><td>S          </td><td>Third      </td><td>woman      </td><td>FALSE      </td><td>           </td><td>Southampton</td><td>yes        </td><td>FALSE      </td></tr>\n",
       "\t<tr><th scope=row>28</th><td>0          </td><td>1          </td><td>male       </td><td>19         </td><td>3          </td><td>2          </td><td>263.0000   </td><td>S          </td><td>First      </td><td>man        </td><td> TRUE      </td><td>C          </td><td>Southampton</td><td>no         </td><td>FALSE      </td></tr>\n",
       "\t<tr><th scope=row>31</th><td>0          </td><td>1          </td><td>male       </td><td>40         </td><td>0          </td><td>0          </td><td> 27.7208   </td><td>C          </td><td>First      </td><td>man        </td><td> TRUE      </td><td>           </td><td>Cherbourg  </td><td>no         </td><td> TRUE      </td></tr>\n",
       "\t<tr><th scope=row>34</th><td>0          </td><td>2          </td><td>male       </td><td>66         </td><td>0          </td><td>0          </td><td> 10.5000   </td><td>S          </td><td>Second     </td><td>man        </td><td> TRUE      </td><td>           </td><td>Southampton</td><td>no         </td><td> TRUE      </td></tr>\n",
       "\t<tr><th scope=row>35</th><td>0          </td><td>1          </td><td>male       </td><td>28         </td><td>1          </td><td>0          </td><td> 82.1708   </td><td>C          </td><td>First      </td><td>man        </td><td> TRUE      </td><td>           </td><td>Cherbourg  </td><td>no         </td><td>FALSE      </td></tr>\n",
       "\t<tr><th scope=row>36</th><td>0          </td><td>1          </td><td>male       </td><td>42         </td><td>1          </td><td>0          </td><td> 52.0000   </td><td>S          </td><td>First      </td><td>man        </td><td> TRUE      </td><td>           </td><td>Southampton</td><td>no         </td><td>FALSE      </td></tr>\n",
       "\t<tr><th scope=row>38</th><td>0          </td><td>3          </td><td>male       </td><td>21         </td><td>0          </td><td>0          </td><td>  8.0500   </td><td>S          </td><td>Third      </td><td>man        </td><td> TRUE      </td><td>           </td><td>Southampton</td><td>no         </td><td> TRUE      </td></tr>\n",
       "\t<tr><th scope=row>39</th><td>0          </td><td>3          </td><td>female     </td><td>18         </td><td>2          </td><td>0          </td><td> 18.0000   </td><td>S          </td><td>Third      </td><td>woman      </td><td>FALSE      </td><td>           </td><td>Southampton</td><td>no         </td><td>FALSE      </td></tr>\n",
       "\t<tr><th scope=row>...</th><td>...</td><td>...</td><td>...</td><td>...</td><td>...</td><td>...</td><td>...</td><td>...</td><td>...</td><td>...</td><td>...</td><td>...</td><td>...</td><td>...</td><td>...</td></tr>\n",
       "\t<tr><th scope=row>857</th><td>1          </td><td>1          </td><td>female     </td><td>45         </td><td>1          </td><td>1          </td><td>164.8667   </td><td>S          </td><td>First      </td><td>woman      </td><td>FALSE      </td><td>           </td><td>Southampton</td><td>yes        </td><td>FALSE      </td></tr>\n",
       "\t<tr><th scope=row>858</th><td>1          </td><td>1          </td><td>male       </td><td>51         </td><td>0          </td><td>0          </td><td> 26.5500   </td><td>S          </td><td>First      </td><td>man        </td><td> TRUE      </td><td>E          </td><td>Southampton</td><td>yes        </td><td> TRUE      </td></tr>\n",
       "\t<tr><th scope=row>859</th><td>1          </td><td>3          </td><td>female     </td><td>24         </td><td>0          </td><td>3          </td><td> 19.2583   </td><td>C          </td><td>Third      </td><td>woman      </td><td>FALSE      </td><td>           </td><td>Cherbourg  </td><td>yes        </td><td>FALSE      </td></tr>\n",
       "\t<tr><th scope=row>861</th><td>0          </td><td>3          </td><td>male       </td><td>41         </td><td>2          </td><td>0          </td><td> 14.1083   </td><td>S          </td><td>Third      </td><td>man        </td><td> TRUE      </td><td>           </td><td>Southampton</td><td>no         </td><td>FALSE      </td></tr>\n",
       "\t<tr><th scope=row>862</th><td>0          </td><td>2          </td><td>male       </td><td>21         </td><td>1          </td><td>0          </td><td> 11.5000   </td><td>S          </td><td>Second     </td><td>man        </td><td> TRUE      </td><td>           </td><td>Southampton</td><td>no         </td><td>FALSE      </td></tr>\n",
       "\t<tr><th scope=row>863</th><td>1          </td><td>1          </td><td>female     </td><td>48         </td><td>0          </td><td>0          </td><td> 25.9292   </td><td>S          </td><td>First      </td><td>woman      </td><td>FALSE      </td><td>D          </td><td>Southampton</td><td>yes        </td><td> TRUE      </td></tr>\n",
       "\t<tr><th scope=row>865</th><td>0          </td><td>2          </td><td>male       </td><td>24         </td><td>0          </td><td>0          </td><td> 13.0000   </td><td>S          </td><td>Second     </td><td>man        </td><td> TRUE      </td><td>           </td><td>Southampton</td><td>no         </td><td> TRUE      </td></tr>\n",
       "\t<tr><th scope=row>866</th><td>1          </td><td>2          </td><td>female     </td><td>42         </td><td>0          </td><td>0          </td><td> 13.0000   </td><td>S          </td><td>Second     </td><td>woman      </td><td>FALSE      </td><td>           </td><td>Southampton</td><td>yes        </td><td> TRUE      </td></tr>\n",
       "\t<tr><th scope=row>867</th><td>1          </td><td>2          </td><td>female     </td><td>27         </td><td>1          </td><td>0          </td><td> 13.8583   </td><td>C          </td><td>Second     </td><td>woman      </td><td>FALSE      </td><td>           </td><td>Cherbourg  </td><td>yes        </td><td>FALSE      </td></tr>\n",
       "\t<tr><th scope=row>868</th><td>0          </td><td>1          </td><td>male       </td><td>31         </td><td>0          </td><td>0          </td><td> 50.4958   </td><td>S          </td><td>First      </td><td>man        </td><td> TRUE      </td><td>A          </td><td>Southampton</td><td>no         </td><td> TRUE      </td></tr>\n",
       "\t<tr><th scope=row>870</th><td>1          </td><td>3          </td><td>male       </td><td> 4         </td><td>1          </td><td>1          </td><td> 11.1333   </td><td>S          </td><td>Third      </td><td>child      </td><td>FALSE      </td><td>           </td><td>Southampton</td><td>yes        </td><td>FALSE      </td></tr>\n",
       "\t<tr><th scope=row>871</th><td>0          </td><td>3          </td><td>male       </td><td>26         </td><td>0          </td><td>0          </td><td>  7.8958   </td><td>S          </td><td>Third      </td><td>man        </td><td> TRUE      </td><td>           </td><td>Southampton</td><td>no         </td><td> TRUE      </td></tr>\n",
       "\t<tr><th scope=row>872</th><td>1          </td><td>1          </td><td>female     </td><td>47         </td><td>1          </td><td>1          </td><td> 52.5542   </td><td>S          </td><td>First      </td><td>woman      </td><td>FALSE      </td><td>D          </td><td>Southampton</td><td>yes        </td><td>FALSE      </td></tr>\n",
       "\t<tr><th scope=row>873</th><td>0          </td><td>1          </td><td>male       </td><td>33         </td><td>0          </td><td>0          </td><td>  5.0000   </td><td>S          </td><td>First      </td><td>man        </td><td> TRUE      </td><td>B          </td><td>Southampton</td><td>no         </td><td> TRUE      </td></tr>\n",
       "\t<tr><th scope=row>874</th><td>0          </td><td>3          </td><td>male       </td><td>47         </td><td>0          </td><td>0          </td><td>  9.0000   </td><td>S          </td><td>Third      </td><td>man        </td><td> TRUE      </td><td>           </td><td>Southampton</td><td>no         </td><td> TRUE      </td></tr>\n",
       "\t<tr><th scope=row>875</th><td>1          </td><td>2          </td><td>female     </td><td>28         </td><td>1          </td><td>0          </td><td> 24.0000   </td><td>C          </td><td>Second     </td><td>woman      </td><td>FALSE      </td><td>           </td><td>Cherbourg  </td><td>yes        </td><td>FALSE      </td></tr>\n",
       "\t<tr><th scope=row>876</th><td>1          </td><td>3          </td><td>female     </td><td>15         </td><td>0          </td><td>0          </td><td>  7.2250   </td><td>C          </td><td>Third      </td><td>child      </td><td>FALSE      </td><td>           </td><td>Cherbourg  </td><td>yes        </td><td> TRUE      </td></tr>\n",
       "\t<tr><th scope=row>877</th><td>0          </td><td>3          </td><td>male       </td><td>20         </td><td>0          </td><td>0          </td><td>  9.8458   </td><td>S          </td><td>Third      </td><td>man        </td><td> TRUE      </td><td>           </td><td>Southampton</td><td>no         </td><td> TRUE      </td></tr>\n",
       "\t<tr><th scope=row>878</th><td>0          </td><td>3          </td><td>male       </td><td>19         </td><td>0          </td><td>0          </td><td>  7.8958   </td><td>S          </td><td>Third      </td><td>man        </td><td> TRUE      </td><td>           </td><td>Southampton</td><td>no         </td><td> TRUE      </td></tr>\n",
       "\t<tr><th scope=row>880</th><td>1          </td><td>1          </td><td>female     </td><td>56         </td><td>0          </td><td>1          </td><td> 83.1583   </td><td>C          </td><td>First      </td><td>woman      </td><td>FALSE      </td><td>C          </td><td>Cherbourg  </td><td>yes        </td><td>FALSE      </td></tr>\n",
       "\t<tr><th scope=row>881</th><td>1          </td><td>2          </td><td>female     </td><td>25         </td><td>0          </td><td>1          </td><td> 26.0000   </td><td>S          </td><td>Second     </td><td>woman      </td><td>FALSE      </td><td>           </td><td>Southampton</td><td>yes        </td><td>FALSE      </td></tr>\n",
       "\t<tr><th scope=row>882</th><td>0          </td><td>3          </td><td>male       </td><td>33         </td><td>0          </td><td>0          </td><td>  7.8958   </td><td>S          </td><td>Third      </td><td>man        </td><td> TRUE      </td><td>           </td><td>Southampton</td><td>no         </td><td> TRUE      </td></tr>\n",
       "\t<tr><th scope=row>883</th><td>0          </td><td>3          </td><td>female     </td><td>22         </td><td>0          </td><td>0          </td><td> 10.5167   </td><td>S          </td><td>Third      </td><td>woman      </td><td>FALSE      </td><td>           </td><td>Southampton</td><td>no         </td><td> TRUE      </td></tr>\n",
       "\t<tr><th scope=row>884</th><td>0          </td><td>2          </td><td>male       </td><td>28         </td><td>0          </td><td>0          </td><td> 10.5000   </td><td>S          </td><td>Second     </td><td>man        </td><td> TRUE      </td><td>           </td><td>Southampton</td><td>no         </td><td> TRUE      </td></tr>\n",
       "\t<tr><th scope=row>885</th><td>0          </td><td>3          </td><td>male       </td><td>25         </td><td>0          </td><td>0          </td><td>  7.0500   </td><td>S          </td><td>Third      </td><td>man        </td><td> TRUE      </td><td>           </td><td>Southampton</td><td>no         </td><td> TRUE      </td></tr>\n",
       "\t<tr><th scope=row>886</th><td>0          </td><td>3          </td><td>female     </td><td>39         </td><td>0          </td><td>5          </td><td> 29.1250   </td><td>Q          </td><td>Third      </td><td>woman      </td><td>FALSE      </td><td>           </td><td>Queenstown </td><td>no         </td><td>FALSE      </td></tr>\n",
       "\t<tr><th scope=row>887</th><td>0          </td><td>2          </td><td>male       </td><td>27         </td><td>0          </td><td>0          </td><td> 13.0000   </td><td>S          </td><td>Second     </td><td>man        </td><td> TRUE      </td><td>           </td><td>Southampton</td><td>no         </td><td> TRUE      </td></tr>\n",
       "\t<tr><th scope=row>888</th><td>1          </td><td>1          </td><td>female     </td><td>19         </td><td>0          </td><td>0          </td><td> 30.0000   </td><td>S          </td><td>First      </td><td>woman      </td><td>FALSE      </td><td>B          </td><td>Southampton</td><td>yes        </td><td> TRUE      </td></tr>\n",
       "\t<tr><th scope=row>890</th><td>1          </td><td>1          </td><td>male       </td><td>26         </td><td>0          </td><td>0          </td><td> 30.0000   </td><td>C          </td><td>First      </td><td>man        </td><td> TRUE      </td><td>C          </td><td>Cherbourg  </td><td>yes        </td><td> TRUE      </td></tr>\n",
       "\t<tr><th scope=row>891</th><td>0          </td><td>3          </td><td>male       </td><td>32         </td><td>0          </td><td>0          </td><td>  7.7500   </td><td>Q          </td><td>Third      </td><td>man        </td><td> TRUE      </td><td>           </td><td>Queenstown </td><td>no         </td><td> TRUE      </td></tr>\n",
       "</tbody>\n",
       "</table>\n"
      ],
      "text/latex": [
       "\\begin{tabular}{r|lllllllllllllll}\n",
       "  & survived & pclass & sex & age & sibsp & parch & fare & embarked & class & who & adult\\_male & deck & embark\\_town & alive & alone\\\\\n",
       "\\hline\n",
       "\t1 & 0           & 3           & male        & 22          & 1           & 0           &   7.2500    & S           & Third       & man         &  TRUE       &             & Southampton & no          & FALSE      \\\\\n",
       "\t2 & 1           & 1           & female      & 38          & 1           & 0           &  71.2833    & C           & First       & woman       & FALSE       & C           & Cherbourg   & yes         & FALSE      \\\\\n",
       "\t3 & 1           & 3           & female      & 26          & 0           & 0           &   7.9250    & S           & Third       & woman       & FALSE       &             & Southampton & yes         &  TRUE      \\\\\n",
       "\t4 & 1           & 1           & female      & 35          & 1           & 0           &  53.1000    & S           & First       & woman       & FALSE       & C           & Southampton & yes         & FALSE      \\\\\n",
       "\t5 & 0           & 3           & male        & 35          & 0           & 0           &   8.0500    & S           & Third       & man         &  TRUE       &             & Southampton & no          &  TRUE      \\\\\n",
       "\t7 & 0           & 1           & male        & 54          & 0           & 0           &  51.8625    & S           & First       & man         &  TRUE       & E           & Southampton & no          &  TRUE      \\\\\n",
       "\t8 & 0           & 3           & male        &  2          & 3           & 1           &  21.0750    & S           & Third       & child       & FALSE       &             & Southampton & no          & FALSE      \\\\\n",
       "\t9 & 1           & 3           & female      & 27          & 0           & 2           &  11.1333    & S           & Third       & woman       & FALSE       &             & Southampton & yes         & FALSE      \\\\\n",
       "\t10 & 1           & 2           & female      & 14          & 1           & 0           &  30.0708    & C           & Second      & child       & FALSE       &             & Cherbourg   & yes         & FALSE      \\\\\n",
       "\t11 & 1           & 3           & female      &  4          & 1           & 1           &  16.7000    & S           & Third       & child       & FALSE       & G           & Southampton & yes         & FALSE      \\\\\n",
       "\t12 & 1           & 1           & female      & 58          & 0           & 0           &  26.5500    & S           & First       & woman       & FALSE       & C           & Southampton & yes         &  TRUE      \\\\\n",
       "\t13 & 0           & 3           & male        & 20          & 0           & 0           &   8.0500    & S           & Third       & man         &  TRUE       &             & Southampton & no          &  TRUE      \\\\\n",
       "\t14 & 0           & 3           & male        & 39          & 1           & 5           &  31.2750    & S           & Third       & man         &  TRUE       &             & Southampton & no          & FALSE      \\\\\n",
       "\t15 & 0           & 3           & female      & 14          & 0           & 0           &   7.8542    & S           & Third       & child       & FALSE       &             & Southampton & no          &  TRUE      \\\\\n",
       "\t16 & 1           & 2           & female      & 55          & 0           & 0           &  16.0000    & S           & Second      & woman       & FALSE       &             & Southampton & yes         &  TRUE      \\\\\n",
       "\t17 & 0           & 3           & male        &  2          & 4           & 1           &  29.1250    & Q           & Third       & child       & FALSE       &             & Queenstown  & no          & FALSE      \\\\\n",
       "\t19 & 0           & 3           & female      & 31          & 1           & 0           &  18.0000    & S           & Third       & woman       & FALSE       &             & Southampton & no          & FALSE      \\\\\n",
       "\t21 & 0           & 2           & male        & 35          & 0           & 0           &  26.0000    & S           & Second      & man         &  TRUE       &             & Southampton & no          &  TRUE      \\\\\n",
       "\t22 & 1           & 2           & male        & 34          & 0           & 0           &  13.0000    & S           & Second      & man         &  TRUE       & D           & Southampton & yes         &  TRUE      \\\\\n",
       "\t23 & 1           & 3           & female      & 15          & 0           & 0           &   8.0292    & Q           & Third       & child       & FALSE       &             & Queenstown  & yes         &  TRUE      \\\\\n",
       "\t24 & 1           & 1           & male        & 28          & 0           & 0           &  35.5000    & S           & First       & man         &  TRUE       & A           & Southampton & yes         &  TRUE      \\\\\n",
       "\t25 & 0           & 3           & female      &  8          & 3           & 1           &  21.0750    & S           & Third       & child       & FALSE       &             & Southampton & no          & FALSE      \\\\\n",
       "\t26 & 1           & 3           & female      & 38          & 1           & 5           &  31.3875    & S           & Third       & woman       & FALSE       &             & Southampton & yes         & FALSE      \\\\\n",
       "\t28 & 0           & 1           & male        & 19          & 3           & 2           & 263.0000    & S           & First       & man         &  TRUE       & C           & Southampton & no          & FALSE      \\\\\n",
       "\t31 & 0           & 1           & male        & 40          & 0           & 0           &  27.7208    & C           & First       & man         &  TRUE       &             & Cherbourg   & no          &  TRUE      \\\\\n",
       "\t34 & 0           & 2           & male        & 66          & 0           & 0           &  10.5000    & S           & Second      & man         &  TRUE       &             & Southampton & no          &  TRUE      \\\\\n",
       "\t35 & 0           & 1           & male        & 28          & 1           & 0           &  82.1708    & C           & First       & man         &  TRUE       &             & Cherbourg   & no          & FALSE      \\\\\n",
       "\t36 & 0           & 1           & male        & 42          & 1           & 0           &  52.0000    & S           & First       & man         &  TRUE       &             & Southampton & no          & FALSE      \\\\\n",
       "\t38 & 0           & 3           & male        & 21          & 0           & 0           &   8.0500    & S           & Third       & man         &  TRUE       &             & Southampton & no          &  TRUE      \\\\\n",
       "\t39 & 0           & 3           & female      & 18          & 2           & 0           &  18.0000    & S           & Third       & woman       & FALSE       &             & Southampton & no          & FALSE      \\\\\n",
       "\t... & ... & ... & ... & ... & ... & ... & ... & ... & ... & ... & ... & ... & ... & ... & ...\\\\\n",
       "\t857 & 1           & 1           & female      & 45          & 1           & 1           & 164.8667    & S           & First       & woman       & FALSE       &             & Southampton & yes         & FALSE      \\\\\n",
       "\t858 & 1           & 1           & male        & 51          & 0           & 0           &  26.5500    & S           & First       & man         &  TRUE       & E           & Southampton & yes         &  TRUE      \\\\\n",
       "\t859 & 1           & 3           & female      & 24          & 0           & 3           &  19.2583    & C           & Third       & woman       & FALSE       &             & Cherbourg   & yes         & FALSE      \\\\\n",
       "\t861 & 0           & 3           & male        & 41          & 2           & 0           &  14.1083    & S           & Third       & man         &  TRUE       &             & Southampton & no          & FALSE      \\\\\n",
       "\t862 & 0           & 2           & male        & 21          & 1           & 0           &  11.5000    & S           & Second      & man         &  TRUE       &             & Southampton & no          & FALSE      \\\\\n",
       "\t863 & 1           & 1           & female      & 48          & 0           & 0           &  25.9292    & S           & First       & woman       & FALSE       & D           & Southampton & yes         &  TRUE      \\\\\n",
       "\t865 & 0           & 2           & male        & 24          & 0           & 0           &  13.0000    & S           & Second      & man         &  TRUE       &             & Southampton & no          &  TRUE      \\\\\n",
       "\t866 & 1           & 2           & female      & 42          & 0           & 0           &  13.0000    & S           & Second      & woman       & FALSE       &             & Southampton & yes         &  TRUE      \\\\\n",
       "\t867 & 1           & 2           & female      & 27          & 1           & 0           &  13.8583    & C           & Second      & woman       & FALSE       &             & Cherbourg   & yes         & FALSE      \\\\\n",
       "\t868 & 0           & 1           & male        & 31          & 0           & 0           &  50.4958    & S           & First       & man         &  TRUE       & A           & Southampton & no          &  TRUE      \\\\\n",
       "\t870 & 1           & 3           & male        &  4          & 1           & 1           &  11.1333    & S           & Third       & child       & FALSE       &             & Southampton & yes         & FALSE      \\\\\n",
       "\t871 & 0           & 3           & male        & 26          & 0           & 0           &   7.8958    & S           & Third       & man         &  TRUE       &             & Southampton & no          &  TRUE      \\\\\n",
       "\t872 & 1           & 1           & female      & 47          & 1           & 1           &  52.5542    & S           & First       & woman       & FALSE       & D           & Southampton & yes         & FALSE      \\\\\n",
       "\t873 & 0           & 1           & male        & 33          & 0           & 0           &   5.0000    & S           & First       & man         &  TRUE       & B           & Southampton & no          &  TRUE      \\\\\n",
       "\t874 & 0           & 3           & male        & 47          & 0           & 0           &   9.0000    & S           & Third       & man         &  TRUE       &             & Southampton & no          &  TRUE      \\\\\n",
       "\t875 & 1           & 2           & female      & 28          & 1           & 0           &  24.0000    & C           & Second      & woman       & FALSE       &             & Cherbourg   & yes         & FALSE      \\\\\n",
       "\t876 & 1           & 3           & female      & 15          & 0           & 0           &   7.2250    & C           & Third       & child       & FALSE       &             & Cherbourg   & yes         &  TRUE      \\\\\n",
       "\t877 & 0           & 3           & male        & 20          & 0           & 0           &   9.8458    & S           & Third       & man         &  TRUE       &             & Southampton & no          &  TRUE      \\\\\n",
       "\t878 & 0           & 3           & male        & 19          & 0           & 0           &   7.8958    & S           & Third       & man         &  TRUE       &             & Southampton & no          &  TRUE      \\\\\n",
       "\t880 & 1           & 1           & female      & 56          & 0           & 1           &  83.1583    & C           & First       & woman       & FALSE       & C           & Cherbourg   & yes         & FALSE      \\\\\n",
       "\t881 & 1           & 2           & female      & 25          & 0           & 1           &  26.0000    & S           & Second      & woman       & FALSE       &             & Southampton & yes         & FALSE      \\\\\n",
       "\t882 & 0           & 3           & male        & 33          & 0           & 0           &   7.8958    & S           & Third       & man         &  TRUE       &             & Southampton & no          &  TRUE      \\\\\n",
       "\t883 & 0           & 3           & female      & 22          & 0           & 0           &  10.5167    & S           & Third       & woman       & FALSE       &             & Southampton & no          &  TRUE      \\\\\n",
       "\t884 & 0           & 2           & male        & 28          & 0           & 0           &  10.5000    & S           & Second      & man         &  TRUE       &             & Southampton & no          &  TRUE      \\\\\n",
       "\t885 & 0           & 3           & male        & 25          & 0           & 0           &   7.0500    & S           & Third       & man         &  TRUE       &             & Southampton & no          &  TRUE      \\\\\n",
       "\t886 & 0           & 3           & female      & 39          & 0           & 5           &  29.1250    & Q           & Third       & woman       & FALSE       &             & Queenstown  & no          & FALSE      \\\\\n",
       "\t887 & 0           & 2           & male        & 27          & 0           & 0           &  13.0000    & S           & Second      & man         &  TRUE       &             & Southampton & no          &  TRUE      \\\\\n",
       "\t888 & 1           & 1           & female      & 19          & 0           & 0           &  30.0000    & S           & First       & woman       & FALSE       & B           & Southampton & yes         &  TRUE      \\\\\n",
       "\t890 & 1           & 1           & male        & 26          & 0           & 0           &  30.0000    & C           & First       & man         &  TRUE       & C           & Cherbourg   & yes         &  TRUE      \\\\\n",
       "\t891 & 0           & 3           & male        & 32          & 0           & 0           &   7.7500    & Q           & Third       & man         &  TRUE       &             & Queenstown  & no          &  TRUE      \\\\\n",
       "\\end{tabular}\n"
      ],
      "text/markdown": [
       "\n",
       "| <!--/--> | survived | pclass | sex | age | sibsp | parch | fare | embarked | class | who | adult_male | deck | embark_town | alive | alone |\n",
       "|---|---|---|---|---|---|---|---|---|---|---|---|---|---|---|---|\n",
       "| 1 | 0           | 3           | male        | 22          | 1           | 0           |   7.2500    | S           | Third       | man         |  TRUE       |             | Southampton | no          | FALSE       |\n",
       "| 2 | 1           | 1           | female      | 38          | 1           | 0           |  71.2833    | C           | First       | woman       | FALSE       | C           | Cherbourg   | yes         | FALSE       |\n",
       "| 3 | 1           | 3           | female      | 26          | 0           | 0           |   7.9250    | S           | Third       | woman       | FALSE       |             | Southampton | yes         |  TRUE       |\n",
       "| 4 | 1           | 1           | female      | 35          | 1           | 0           |  53.1000    | S           | First       | woman       | FALSE       | C           | Southampton | yes         | FALSE       |\n",
       "| 5 | 0           | 3           | male        | 35          | 0           | 0           |   8.0500    | S           | Third       | man         |  TRUE       |             | Southampton | no          |  TRUE       |\n",
       "| 7 | 0           | 1           | male        | 54          | 0           | 0           |  51.8625    | S           | First       | man         |  TRUE       | E           | Southampton | no          |  TRUE       |\n",
       "| 8 | 0           | 3           | male        |  2          | 3           | 1           |  21.0750    | S           | Third       | child       | FALSE       |             | Southampton | no          | FALSE       |\n",
       "| 9 | 1           | 3           | female      | 27          | 0           | 2           |  11.1333    | S           | Third       | woman       | FALSE       |             | Southampton | yes         | FALSE       |\n",
       "| 10 | 1           | 2           | female      | 14          | 1           | 0           |  30.0708    | C           | Second      | child       | FALSE       |             | Cherbourg   | yes         | FALSE       |\n",
       "| 11 | 1           | 3           | female      |  4          | 1           | 1           |  16.7000    | S           | Third       | child       | FALSE       | G           | Southampton | yes         | FALSE       |\n",
       "| 12 | 1           | 1           | female      | 58          | 0           | 0           |  26.5500    | S           | First       | woman       | FALSE       | C           | Southampton | yes         |  TRUE       |\n",
       "| 13 | 0           | 3           | male        | 20          | 0           | 0           |   8.0500    | S           | Third       | man         |  TRUE       |             | Southampton | no          |  TRUE       |\n",
       "| 14 | 0           | 3           | male        | 39          | 1           | 5           |  31.2750    | S           | Third       | man         |  TRUE       |             | Southampton | no          | FALSE       |\n",
       "| 15 | 0           | 3           | female      | 14          | 0           | 0           |   7.8542    | S           | Third       | child       | FALSE       |             | Southampton | no          |  TRUE       |\n",
       "| 16 | 1           | 2           | female      | 55          | 0           | 0           |  16.0000    | S           | Second      | woman       | FALSE       |             | Southampton | yes         |  TRUE       |\n",
       "| 17 | 0           | 3           | male        |  2          | 4           | 1           |  29.1250    | Q           | Third       | child       | FALSE       |             | Queenstown  | no          | FALSE       |\n",
       "| 19 | 0           | 3           | female      | 31          | 1           | 0           |  18.0000    | S           | Third       | woman       | FALSE       |             | Southampton | no          | FALSE       |\n",
       "| 21 | 0           | 2           | male        | 35          | 0           | 0           |  26.0000    | S           | Second      | man         |  TRUE       |             | Southampton | no          |  TRUE       |\n",
       "| 22 | 1           | 2           | male        | 34          | 0           | 0           |  13.0000    | S           | Second      | man         |  TRUE       | D           | Southampton | yes         |  TRUE       |\n",
       "| 23 | 1           | 3           | female      | 15          | 0           | 0           |   8.0292    | Q           | Third       | child       | FALSE       |             | Queenstown  | yes         |  TRUE       |\n",
       "| 24 | 1           | 1           | male        | 28          | 0           | 0           |  35.5000    | S           | First       | man         |  TRUE       | A           | Southampton | yes         |  TRUE       |\n",
       "| 25 | 0           | 3           | female      |  8          | 3           | 1           |  21.0750    | S           | Third       | child       | FALSE       |             | Southampton | no          | FALSE       |\n",
       "| 26 | 1           | 3           | female      | 38          | 1           | 5           |  31.3875    | S           | Third       | woman       | FALSE       |             | Southampton | yes         | FALSE       |\n",
       "| 28 | 0           | 1           | male        | 19          | 3           | 2           | 263.0000    | S           | First       | man         |  TRUE       | C           | Southampton | no          | FALSE       |\n",
       "| 31 | 0           | 1           | male        | 40          | 0           | 0           |  27.7208    | C           | First       | man         |  TRUE       |             | Cherbourg   | no          |  TRUE       |\n",
       "| 34 | 0           | 2           | male        | 66          | 0           | 0           |  10.5000    | S           | Second      | man         |  TRUE       |             | Southampton | no          |  TRUE       |\n",
       "| 35 | 0           | 1           | male        | 28          | 1           | 0           |  82.1708    | C           | First       | man         |  TRUE       |             | Cherbourg   | no          | FALSE       |\n",
       "| 36 | 0           | 1           | male        | 42          | 1           | 0           |  52.0000    | S           | First       | man         |  TRUE       |             | Southampton | no          | FALSE       |\n",
       "| 38 | 0           | 3           | male        | 21          | 0           | 0           |   8.0500    | S           | Third       | man         |  TRUE       |             | Southampton | no          |  TRUE       |\n",
       "| 39 | 0           | 3           | female      | 18          | 2           | 0           |  18.0000    | S           | Third       | woman       | FALSE       |             | Southampton | no          | FALSE       |\n",
       "| ... | ... | ... | ... | ... | ... | ... | ... | ... | ... | ... | ... | ... | ... | ... | ... |\n",
       "| 857 | 1           | 1           | female      | 45          | 1           | 1           | 164.8667    | S           | First       | woman       | FALSE       |             | Southampton | yes         | FALSE       |\n",
       "| 858 | 1           | 1           | male        | 51          | 0           | 0           |  26.5500    | S           | First       | man         |  TRUE       | E           | Southampton | yes         |  TRUE       |\n",
       "| 859 | 1           | 3           | female      | 24          | 0           | 3           |  19.2583    | C           | Third       | woman       | FALSE       |             | Cherbourg   | yes         | FALSE       |\n",
       "| 861 | 0           | 3           | male        | 41          | 2           | 0           |  14.1083    | S           | Third       | man         |  TRUE       |             | Southampton | no          | FALSE       |\n",
       "| 862 | 0           | 2           | male        | 21          | 1           | 0           |  11.5000    | S           | Second      | man         |  TRUE       |             | Southampton | no          | FALSE       |\n",
       "| 863 | 1           | 1           | female      | 48          | 0           | 0           |  25.9292    | S           | First       | woman       | FALSE       | D           | Southampton | yes         |  TRUE       |\n",
       "| 865 | 0           | 2           | male        | 24          | 0           | 0           |  13.0000    | S           | Second      | man         |  TRUE       |             | Southampton | no          |  TRUE       |\n",
       "| 866 | 1           | 2           | female      | 42          | 0           | 0           |  13.0000    | S           | Second      | woman       | FALSE       |             | Southampton | yes         |  TRUE       |\n",
       "| 867 | 1           | 2           | female      | 27          | 1           | 0           |  13.8583    | C           | Second      | woman       | FALSE       |             | Cherbourg   | yes         | FALSE       |\n",
       "| 868 | 0           | 1           | male        | 31          | 0           | 0           |  50.4958    | S           | First       | man         |  TRUE       | A           | Southampton | no          |  TRUE       |\n",
       "| 870 | 1           | 3           | male        |  4          | 1           | 1           |  11.1333    | S           | Third       | child       | FALSE       |             | Southampton | yes         | FALSE       |\n",
       "| 871 | 0           | 3           | male        | 26          | 0           | 0           |   7.8958    | S           | Third       | man         |  TRUE       |             | Southampton | no          |  TRUE       |\n",
       "| 872 | 1           | 1           | female      | 47          | 1           | 1           |  52.5542    | S           | First       | woman       | FALSE       | D           | Southampton | yes         | FALSE       |\n",
       "| 873 | 0           | 1           | male        | 33          | 0           | 0           |   5.0000    | S           | First       | man         |  TRUE       | B           | Southampton | no          |  TRUE       |\n",
       "| 874 | 0           | 3           | male        | 47          | 0           | 0           |   9.0000    | S           | Third       | man         |  TRUE       |             | Southampton | no          |  TRUE       |\n",
       "| 875 | 1           | 2           | female      | 28          | 1           | 0           |  24.0000    | C           | Second      | woman       | FALSE       |             | Cherbourg   | yes         | FALSE       |\n",
       "| 876 | 1           | 3           | female      | 15          | 0           | 0           |   7.2250    | C           | Third       | child       | FALSE       |             | Cherbourg   | yes         |  TRUE       |\n",
       "| 877 | 0           | 3           | male        | 20          | 0           | 0           |   9.8458    | S           | Third       | man         |  TRUE       |             | Southampton | no          |  TRUE       |\n",
       "| 878 | 0           | 3           | male        | 19          | 0           | 0           |   7.8958    | S           | Third       | man         |  TRUE       |             | Southampton | no          |  TRUE       |\n",
       "| 880 | 1           | 1           | female      | 56          | 0           | 1           |  83.1583    | C           | First       | woman       | FALSE       | C           | Cherbourg   | yes         | FALSE       |\n",
       "| 881 | 1           | 2           | female      | 25          | 0           | 1           |  26.0000    | S           | Second      | woman       | FALSE       |             | Southampton | yes         | FALSE       |\n",
       "| 882 | 0           | 3           | male        | 33          | 0           | 0           |   7.8958    | S           | Third       | man         |  TRUE       |             | Southampton | no          |  TRUE       |\n",
       "| 883 | 0           | 3           | female      | 22          | 0           | 0           |  10.5167    | S           | Third       | woman       | FALSE       |             | Southampton | no          |  TRUE       |\n",
       "| 884 | 0           | 2           | male        | 28          | 0           | 0           |  10.5000    | S           | Second      | man         |  TRUE       |             | Southampton | no          |  TRUE       |\n",
       "| 885 | 0           | 3           | male        | 25          | 0           | 0           |   7.0500    | S           | Third       | man         |  TRUE       |             | Southampton | no          |  TRUE       |\n",
       "| 886 | 0           | 3           | female      | 39          | 0           | 5           |  29.1250    | Q           | Third       | woman       | FALSE       |             | Queenstown  | no          | FALSE       |\n",
       "| 887 | 0           | 2           | male        | 27          | 0           | 0           |  13.0000    | S           | Second      | man         |  TRUE       |             | Southampton | no          |  TRUE       |\n",
       "| 888 | 1           | 1           | female      | 19          | 0           | 0           |  30.0000    | S           | First       | woman       | FALSE       | B           | Southampton | yes         |  TRUE       |\n",
       "| 890 | 1           | 1           | male        | 26          | 0           | 0           |  30.0000    | C           | First       | man         |  TRUE       | C           | Cherbourg   | yes         |  TRUE       |\n",
       "| 891 | 0           | 3           | male        | 32          | 0           | 0           |   7.7500    | Q           | Third       | man         |  TRUE       |             | Queenstown  | no          |  TRUE       |\n",
       "\n"
      ],
      "text/plain": [
       "    survived pclass sex    age sibsp parch fare     embarked class  who  \n",
       "1   0        3      male   22  1     0       7.2500 S        Third  man  \n",
       "2   1        1      female 38  1     0      71.2833 C        First  woman\n",
       "3   1        3      female 26  0     0       7.9250 S        Third  woman\n",
       "4   1        1      female 35  1     0      53.1000 S        First  woman\n",
       "5   0        3      male   35  0     0       8.0500 S        Third  man  \n",
       "7   0        1      male   54  0     0      51.8625 S        First  man  \n",
       "8   0        3      male    2  3     1      21.0750 S        Third  child\n",
       "9   1        3      female 27  0     2      11.1333 S        Third  woman\n",
       "10  1        2      female 14  1     0      30.0708 C        Second child\n",
       "11  1        3      female  4  1     1      16.7000 S        Third  child\n",
       "12  1        1      female 58  0     0      26.5500 S        First  woman\n",
       "13  0        3      male   20  0     0       8.0500 S        Third  man  \n",
       "14  0        3      male   39  1     5      31.2750 S        Third  man  \n",
       "15  0        3      female 14  0     0       7.8542 S        Third  child\n",
       "16  1        2      female 55  0     0      16.0000 S        Second woman\n",
       "17  0        3      male    2  4     1      29.1250 Q        Third  child\n",
       "19  0        3      female 31  1     0      18.0000 S        Third  woman\n",
       "21  0        2      male   35  0     0      26.0000 S        Second man  \n",
       "22  1        2      male   34  0     0      13.0000 S        Second man  \n",
       "23  1        3      female 15  0     0       8.0292 Q        Third  child\n",
       "24  1        1      male   28  0     0      35.5000 S        First  man  \n",
       "25  0        3      female  8  3     1      21.0750 S        Third  child\n",
       "26  1        3      female 38  1     5      31.3875 S        Third  woman\n",
       "28  0        1      male   19  3     2     263.0000 S        First  man  \n",
       "31  0        1      male   40  0     0      27.7208 C        First  man  \n",
       "34  0        2      male   66  0     0      10.5000 S        Second man  \n",
       "35  0        1      male   28  1     0      82.1708 C        First  man  \n",
       "36  0        1      male   42  1     0      52.0000 S        First  man  \n",
       "38  0        3      male   21  0     0       8.0500 S        Third  man  \n",
       "39  0        3      female 18  2     0      18.0000 S        Third  woman\n",
       "... ...      ...    ...    ... ...   ...   ...      ...      ...    ...  \n",
       "857 1        1      female 45  1     1     164.8667 S        First  woman\n",
       "858 1        1      male   51  0     0      26.5500 S        First  man  \n",
       "859 1        3      female 24  0     3      19.2583 C        Third  woman\n",
       "861 0        3      male   41  2     0      14.1083 S        Third  man  \n",
       "862 0        2      male   21  1     0      11.5000 S        Second man  \n",
       "863 1        1      female 48  0     0      25.9292 S        First  woman\n",
       "865 0        2      male   24  0     0      13.0000 S        Second man  \n",
       "866 1        2      female 42  0     0      13.0000 S        Second woman\n",
       "867 1        2      female 27  1     0      13.8583 C        Second woman\n",
       "868 0        1      male   31  0     0      50.4958 S        First  man  \n",
       "870 1        3      male    4  1     1      11.1333 S        Third  child\n",
       "871 0        3      male   26  0     0       7.8958 S        Third  man  \n",
       "872 1        1      female 47  1     1      52.5542 S        First  woman\n",
       "873 0        1      male   33  0     0       5.0000 S        First  man  \n",
       "874 0        3      male   47  0     0       9.0000 S        Third  man  \n",
       "875 1        2      female 28  1     0      24.0000 C        Second woman\n",
       "876 1        3      female 15  0     0       7.2250 C        Third  child\n",
       "877 0        3      male   20  0     0       9.8458 S        Third  man  \n",
       "878 0        3      male   19  0     0       7.8958 S        Third  man  \n",
       "880 1        1      female 56  0     1      83.1583 C        First  woman\n",
       "881 1        2      female 25  0     1      26.0000 S        Second woman\n",
       "882 0        3      male   33  0     0       7.8958 S        Third  man  \n",
       "883 0        3      female 22  0     0      10.5167 S        Third  woman\n",
       "884 0        2      male   28  0     0      10.5000 S        Second man  \n",
       "885 0        3      male   25  0     0       7.0500 S        Third  man  \n",
       "886 0        3      female 39  0     5      29.1250 Q        Third  woman\n",
       "887 0        2      male   27  0     0      13.0000 S        Second man  \n",
       "888 1        1      female 19  0     0      30.0000 S        First  woman\n",
       "890 1        1      male   26  0     0      30.0000 C        First  man  \n",
       "891 0        3      male   32  0     0       7.7500 Q        Third  man  \n",
       "    adult_male deck embark_town alive alone\n",
       "1    TRUE           Southampton no    FALSE\n",
       "2   FALSE      C    Cherbourg   yes   FALSE\n",
       "3   FALSE           Southampton yes    TRUE\n",
       "4   FALSE      C    Southampton yes   FALSE\n",
       "5    TRUE           Southampton no     TRUE\n",
       "7    TRUE      E    Southampton no     TRUE\n",
       "8   FALSE           Southampton no    FALSE\n",
       "9   FALSE           Southampton yes   FALSE\n",
       "10  FALSE           Cherbourg   yes   FALSE\n",
       "11  FALSE      G    Southampton yes   FALSE\n",
       "12  FALSE      C    Southampton yes    TRUE\n",
       "13   TRUE           Southampton no     TRUE\n",
       "14   TRUE           Southampton no    FALSE\n",
       "15  FALSE           Southampton no     TRUE\n",
       "16  FALSE           Southampton yes    TRUE\n",
       "17  FALSE           Queenstown  no    FALSE\n",
       "19  FALSE           Southampton no    FALSE\n",
       "21   TRUE           Southampton no     TRUE\n",
       "22   TRUE      D    Southampton yes    TRUE\n",
       "23  FALSE           Queenstown  yes    TRUE\n",
       "24   TRUE      A    Southampton yes    TRUE\n",
       "25  FALSE           Southampton no    FALSE\n",
       "26  FALSE           Southampton yes   FALSE\n",
       "28   TRUE      C    Southampton no    FALSE\n",
       "31   TRUE           Cherbourg   no     TRUE\n",
       "34   TRUE           Southampton no     TRUE\n",
       "35   TRUE           Cherbourg   no    FALSE\n",
       "36   TRUE           Southampton no    FALSE\n",
       "38   TRUE           Southampton no     TRUE\n",
       "39  FALSE           Southampton no    FALSE\n",
       "... ...        ...  ...         ...   ...  \n",
       "857 FALSE           Southampton yes   FALSE\n",
       "858  TRUE      E    Southampton yes    TRUE\n",
       "859 FALSE           Cherbourg   yes   FALSE\n",
       "861  TRUE           Southampton no    FALSE\n",
       "862  TRUE           Southampton no    FALSE\n",
       "863 FALSE      D    Southampton yes    TRUE\n",
       "865  TRUE           Southampton no     TRUE\n",
       "866 FALSE           Southampton yes    TRUE\n",
       "867 FALSE           Cherbourg   yes   FALSE\n",
       "868  TRUE      A    Southampton no     TRUE\n",
       "870 FALSE           Southampton yes   FALSE\n",
       "871  TRUE           Southampton no     TRUE\n",
       "872 FALSE      D    Southampton yes   FALSE\n",
       "873  TRUE      B    Southampton no     TRUE\n",
       "874  TRUE           Southampton no     TRUE\n",
       "875 FALSE           Cherbourg   yes   FALSE\n",
       "876 FALSE           Cherbourg   yes    TRUE\n",
       "877  TRUE           Southampton no     TRUE\n",
       "878  TRUE           Southampton no     TRUE\n",
       "880 FALSE      C    Cherbourg   yes   FALSE\n",
       "881 FALSE           Southampton yes   FALSE\n",
       "882  TRUE           Southampton no     TRUE\n",
       "883 FALSE           Southampton no     TRUE\n",
       "884  TRUE           Southampton no     TRUE\n",
       "885  TRUE           Southampton no     TRUE\n",
       "886 FALSE           Queenstown  no    FALSE\n",
       "887  TRUE           Southampton no     TRUE\n",
       "888 FALSE      B    Southampton yes    TRUE\n",
       "890  TRUE      C    Cherbourg   yes    TRUE\n",
       "891  TRUE           Queenstown  no     TRUE"
      ]
     },
     "metadata": {},
     "output_type": "display_data"
    }
   ],
   "source": [
    "titanic"
   ]
  },
  {
   "cell_type": "markdown",
   "id": "7ed5a0f1-13b9-4ede-b834-cf0229d50e5d",
   "metadata": {},
   "source": [
    "### Create a new data frame, firstSouth, by subsetting titanic to include instances where a passenger is in the first class cabin (pclass feature is 1) and boarded from Southampton (embarked feature is S)."
   ]
  },
  {
   "cell_type": "code",
   "execution_count": 188,
   "id": "9d1c2347-0868-410d-95f1-34a17731dd2c",
   "metadata": {
    "vscode": {
     "languageId": "r"
    }
   },
   "outputs": [
    {
     "data": {
      "text/html": [
       "<table>\n",
       "<thead><tr><th scope=col>pclass</th><th scope=col>female</th><th scope=col>male</th></tr></thead>\n",
       "<tbody>\n",
       "\t<tr><td>1 </td><td>44</td><td>64</td></tr>\n",
       "</tbody>\n",
       "</table>\n"
      ],
      "text/latex": [
       "\\begin{tabular}{r|lll}\n",
       " pclass & female & male\\\\\n",
       "\\hline\n",
       "\t 1  & 44 & 64\\\\\n",
       "\\end{tabular}\n"
      ],
      "text/markdown": [
       "\n",
       "| pclass | female | male |\n",
       "|---|---|---|\n",
       "| 1  | 44 | 64 |\n",
       "\n"
      ],
      "text/plain": [
       "  pclass female male\n",
       "1 1      44     64  "
      ]
     },
     "metadata": {},
     "output_type": "display_data"
    }
   ],
   "source": [
    "FirstSouth <- subset(titanic, pclass == 1 & embarked == \"S\")\n",
    "FirstSouth <- group_by(FirstSouth, pclass)\n",
    "FirstSouth <- summarize(FirstSouth, female = sum(sex == \"female\"), male = sum(sex == \"male\"))\n",
    "FirstSouth"
   ]
  },
  {
   "cell_type": "code",
   "execution_count": 258,
   "id": "b5a9cbcf-8028-4cca-931d-f158bc98c515",
   "metadata": {
    "vscode": {
     "languageId": "r"
    }
   },
   "outputs": [
    {
     "data": {
      "text/html": [
       "<table>\n",
       "<thead><tr><th scope=col>pclass == 1 &amp; embarked == \"S\"</th><th scope=col>female</th><th scope=col>male</th></tr></thead>\n",
       "<tbody>\n",
       "\t<tr><td>FALSE</td><td>217  </td><td>389  </td></tr>\n",
       "\t<tr><td> TRUE</td><td> 44  </td><td> 64  </td></tr>\n",
       "</tbody>\n",
       "</table>\n"
      ],
      "text/latex": [
       "\\begin{tabular}{r|lll}\n",
       " pclass == 1 \\& embarked == \"S\" & female & male\\\\\n",
       "\\hline\n",
       "\t FALSE & 217   & 389  \\\\\n",
       "\t  TRUE &  44   &  64  \\\\\n",
       "\\end{tabular}\n"
      ],
      "text/markdown": [
       "\n",
       "| pclass == 1 & embarked == \"S\" | female | male |\n",
       "|---|---|---|\n",
       "| FALSE | 217   | 389   |\n",
       "|  TRUE |  44   |  64   |\n",
       "\n"
      ],
      "text/plain": [
       "  pclass == 1 & embarked == \"S\" female male\n",
       "1 FALSE                         217    389 \n",
       "2  TRUE                          44     64 "
      ]
     },
     "metadata": {},
     "output_type": "display_data"
    }
   ],
   "source": [
    "titanic %>%\n",
    "group_by(pclass == 1 & embarked == \"S\", sex) %>%\n",
    "summarize(Count = n()) %>%\n",
    "spread(sex, Count)\n"
   ]
  },
  {
   "cell_type": "markdown",
   "id": "a9a0a265-f512-4a15-85dc-7d3cafb1d431",
   "metadata": {},
   "source": [
    "### Create a new data frame, secondThird, by subsetting titanic to include instances where a passenger is either in the second (pclass feature is 2) or third class (pclass feature is 3) cabin."
   ]
  },
  {
   "cell_type": "code",
   "execution_count": 226,
   "id": "d5f57c63-8535-47c6-ba2f-2989eb199ec0",
   "metadata": {
    "vscode": {
     "languageId": "r"
    }
   },
   "outputs": [
    {
     "data": {
      "text/html": [
       "<table>\n",
       "<thead><tr><th scope=col>pclass</th><th scope=col>Not_Alive</th><th scope=col>Alive</th></tr></thead>\n",
       "<tbody>\n",
       "\t<tr><td>2  </td><td> 90</td><td>83 </td></tr>\n",
       "\t<tr><td>3  </td><td>270</td><td>85 </td></tr>\n",
       "</tbody>\n",
       "</table>\n"
      ],
      "text/latex": [
       "\\begin{tabular}{r|lll}\n",
       " pclass & Not\\_Alive & Alive\\\\\n",
       "\\hline\n",
       "\t 2   &  90 & 83 \\\\\n",
       "\t 3   & 270 & 85 \\\\\n",
       "\\end{tabular}\n"
      ],
      "text/markdown": [
       "\n",
       "| pclass | Not_Alive | Alive |\n",
       "|---|---|---|\n",
       "| 2   |  90 | 83  |\n",
       "| 3   | 270 | 85  |\n",
       "\n"
      ],
      "text/plain": [
       "  pclass Not_Alive Alive\n",
       "1 2       90       83   \n",
       "2 3      270       85   "
      ]
     },
     "metadata": {},
     "output_type": "display_data"
    }
   ],
   "source": [
    "SecondThird <- subset(titanic, pclass == 2 | pclass == 3)\n",
    "SecondThird <- group_by(SecondThird, pclass)\n",
    "SecondThird <- summarize(SecondThird, Not_Alive = sum(alive==\"no\"), Alive = sum(alive==\"yes\"))\n",
    "SecondThird"
   ]
  },
  {
   "cell_type": "code",
   "execution_count": 192,
   "id": "cdd9c753-613d-4838-86b3-e4da047dd30a",
   "metadata": {
    "vscode": {
     "languageId": "r"
    }
   },
   "outputs": [
    {
     "data": {
      "text/html": [
       "<table>\n",
       "<thead><tr><th scope=col>pclass == 2</th><th scope=col>pclass == 3</th><th scope=col>no</th><th scope=col>yes</th></tr></thead>\n",
       "<tbody>\n",
       "\t<tr><td>FALSE</td><td>FALSE</td><td> 64  </td><td>122  </td></tr>\n",
       "\t<tr><td>FALSE</td><td> TRUE</td><td>270  </td><td> 85  </td></tr>\n",
       "\t<tr><td> TRUE</td><td>FALSE</td><td> 90  </td><td> 83  </td></tr>\n",
       "</tbody>\n",
       "</table>\n"
      ],
      "text/latex": [
       "\\begin{tabular}{r|llll}\n",
       " pclass == 2 & pclass == 3 & no & yes\\\\\n",
       "\\hline\n",
       "\t FALSE & FALSE &  64   & 122  \\\\\n",
       "\t FALSE &  TRUE & 270   &  85  \\\\\n",
       "\t  TRUE & FALSE &  90   &  83  \\\\\n",
       "\\end{tabular}\n"
      ],
      "text/markdown": [
       "\n",
       "| pclass == 2 | pclass == 3 | no | yes |\n",
       "|---|---|---|---|\n",
       "| FALSE | FALSE |  64   | 122   |\n",
       "| FALSE |  TRUE | 270   |  85   |\n",
       "|  TRUE | FALSE |  90   |  83   |\n",
       "\n"
      ],
      "text/plain": [
       "  pclass == 2 pclass == 3 no  yes\n",
       "1 FALSE       FALSE        64 122\n",
       "2 FALSE        TRUE       270  85\n",
       "3  TRUE       FALSE        90  83"
      ]
     },
     "metadata": {},
     "output_type": "display_data"
    }
   ],
   "source": [
    "titanic %>%\n",
    "group_by(pclass == 2, pclass == 3, alive) %>%\n",
    "summarize(Count = n()) %>%\n",
    "spread(alive, Count)"
   ]
  },
  {
   "cell_type": "markdown",
   "id": "20dd0416-aaa6-47f7-b1b0-5a68edad9062",
   "metadata": {},
   "source": [
    "### Passengers in first class who embarked in Southampton grouped by sex"
   ]
  },
  {
   "cell_type": "code",
   "execution_count": 43,
   "id": "5a90b9b1-fc61-4f88-b84a-a6eace305000",
   "metadata": {
    "vscode": {
     "languageId": "r"
    }
   },
   "outputs": [],
   "source": [
    "Southampton <- filter(titanic, titanic$embark_town == \"Southampton\")"
   ]
  },
  {
   "cell_type": "code",
   "execution_count": 107,
   "id": "8bf3306c-b2a0-4d43-8d55-822f34f1db51",
   "metadata": {
    "vscode": {
     "languageId": "r"
    }
   },
   "outputs": [
    {
     "data": {
      "image/png": "[encoded data removed]",
      "text/plain": [
       "plot without title"
      ]
     },
     "metadata": {},
     "output_type": "display_data"
    }
   ],
   "source": [
    "ggplot(Southampton, \n",
    "        aes(x = sex, fill = sex))+\n",
    "        geom_bar()+\n",
    "        labs(title=\"Passengers in first class who embarked in Southampton grouped by sex\", x=\"Class\", y=\"Count\")+\n",
    "        scale_fill_manual(values = c(\"dark blue\", \"orange\"))\n",
    "       "
   ]
  },
  {
   "cell_type": "markdown",
   "id": "c01d63fb-4a31-4559-bd7c-e194d9bd3414",
   "metadata": {},
   "source": [
    "### Passengers in second and third class grouped by survival status alive"
   ]
  },
  {
   "cell_type": "code",
   "execution_count": 59,
   "id": "fe490d14-28bb-4b96-99a8-a46116095539",
   "metadata": {
    "vscode": {
     "languageId": "r"
    }
   },
   "outputs": [],
   "source": [
    "classgroup <- filter(titanic, pclass == 2 | pclass == 3)"
   ]
  },
  {
   "cell_type": "code",
   "execution_count": 127,
   "id": "5fe4af1a-9cb8-427d-a873-5d960962ab87",
   "metadata": {
    "vscode": {
     "languageId": "r"
    }
   },
   "outputs": [
    {
     "data": {
      "image/png": "[encoded data removed]",
      "text/plain": [
       "plot without title"
      ]
     },
     "metadata": {},
     "output_type": "display_data"
    }
   ],
   "source": [
    "ggplot(classgroup, aes(x = pclass, fill = alive)) +\n",
    "        geom_bar(position = \"dodge\")+ \n",
    "        scale_fill_manual(values = c(\"dark blue\", \"orange\"))+\n",
    "        labs(title = \"Passengers in second and third class grouped by survival status alive\", x = \"Class\", y = \"Count\", fill = \"Alive\")+\n",
    "        ylim(0,300)"
   ]
  },
  {
   "cell_type": "code",
   "execution_count": null,
   "id": "46e7af97-ceae-4dcd-a3fc-cd014c51a86b",
   "metadata": {
    "vscode": {
     "languageId": "r"
    }
   },
   "outputs": [],
   "source": []
  }
 ],
 "metadata": {
  "kernelspec": {
   "display_name": "R",
   "language": "R",
   "name": "ir"
  },
  "language_info": {
   "codemirror_mode": "r",
   "file_extension": ".r",
   "mimetype": "text/x-r-source",
   "name": "R",
   "pygments_lexer": "r",
   "version": "3.6.1"
  }
 },
 "nbformat": 4,
 "nbformat_minor": 5
}

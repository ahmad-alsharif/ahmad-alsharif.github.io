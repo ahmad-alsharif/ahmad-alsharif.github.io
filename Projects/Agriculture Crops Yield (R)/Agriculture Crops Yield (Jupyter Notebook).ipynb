{
 "cells": [
  {
   "cell_type": "markdown",
   "id": "34d05cab-72b4-443e-a8bf-f3f4782e52da",
   "metadata": {},
   "source": [
    "# Agriculture Crops Yield Project:"
   ]
  },

  {
   "cell_type": "markdown",
   "id": "84f25af9-098a-4d42-9c98-d6fbb2831bde",
   "metadata": {},
   "source": [
    "**1 – Business Understanding**\n",
    "\n",
    "*۞Introduction:* <br> \n",
    "This project investigates the impact of rainfall and temperature on crop yield using R. By analyzing data on these environmental factors and their correlation with crop productivity, the study aims to identify optimal conditions for maximizing yields. The findings will provide actionable recommendations for farmers and suggest strategies for mitigating the effects of extreme weather conditions, contributing to more sustainable agricultural practices. <br>"
   ]
  },
  {
   "cell_type": "markdown",
   "id": "bc33ec5d-ebbd-4bfb-beda-bca0431d2e11",
   "metadata": {},
   "source": [
    "*۞Six-Step Problem Solving Process:*<br>\n",
    "\n",
    "| **Steps**                  | **Action**                                                                                                                                                                                                 |\n",
    "|----------------------------|------------------------------------------------------------------------------------------------------------------------------------------------------------------------------------------------------------|\n",
    "| **1- Identifying the Problem**| • For farmers located in the Southern region, using Clay soil, during Sunny weather: <br>     - What is the effect of Rainfall on Crop Yield? <br>     - What is the influence of Temperature on Crop Growth?                                                                                                |\n",
    "| **2- Gather Information**     | • Amount of Rainfall. <br> • Temperature. <br> • Total crops yield.                                                                                                                                        |\n",
    "| **3- Potential Solutions**    | • Higher rainfall and moderate temperatures lead to higher crop yields. <br> • There are optimal ranges of rainfall and temperature beyond which crop yield does not increase significantly or may decrease. |\n",
    "| **4- Evaluate alternatives**  | • Data Analysis: <br>     - Perform a multiple regression analysis to determine the combined effect of rainfall and temperature on crop yield. <br>     - Use scatter plots to visualize the relationships for different crops. <br>     - Calculate correlation coefficients to quantify the strength of the relationships. <br> • Visualization: <br>     - Create scatter plots of Rainfall_mm vs. Yield_tons_per_hectare and Temperature_Celsius vs. Yield_tons_per_hectare for each crop. <br>     - Use plots to visualize the combined effect of rainfall and temperature on yield. |\n",
    "| **5- Best Solution**| • Identify the optimal ranges of rainfall and temperature for the crops. <br>  |\n",
    "| **6- Implementation** | • Recommendations: <br>     - Provide guidelines for farmers on the optimal ranges of rainfall and temperature for crops. <br>     - Suggest irrigation and temperature management practices to maintain optimal conditions. <br>  |"
   ]
  },
  {
   "cell_type": "markdown",
   "id": "83985336-242d-4606-9b3d-c7f9091765a4",
   "metadata": {},
   "source": [
    "**2 – Data Understanding**\n",
    "\n",
    "- Dataset used: Agriculture Crop Yield\n",
    "- Dataset URL: https://www.kaggle.com/datasets/samuelotiattakorah/agriculture-crop-yield/data\n",
    "\n",
    "\n",
    "| Facts: | Dimensions: |\n",
    "| ----------- | ----------- |\n",
    "| Rainfall_mm | Region |\n",
    "| Temperature_Celsius | Soil_Type |\n",
    "| Days_to_Harvest | Fertilizer_Used |\n",
    "| Yield_tons_per_hectare | Irrigation_Used |\n",
    "|  | Weather_Condition |\n",
    "\n",
    "---"
   ]
  },
  {
   "cell_type": "markdown",
   "id": "b82285e0-c9b8-4e56-8f96-117dda50387e",
   "metadata": {},
   "source": [
    "**3 – Data Preparation**\n",
    "\n",
    "---"
   ]
  },
  {
   "cell_type": "code",
   "execution_count": null,
   "id": "27a34ffb-1f6d-4848-9631-d8cc36255fb7",
   "metadata": {},
   "outputs": [],
   "source": [
    "#### Loading required libraries ####\n",
    "library(tidyverse)\n",
    "library(dplyr)\n",
    "library(ggplot2)\n",
    "library(tidyr)\n",
    "library(class)"
   ]
  },
  {
   "cell_type": "code",
   "execution_count": null,
   "id": "1295d791-a1f2-48f9-9f06-cdf19f73d7b3",
   "metadata": {},
   "outputs": [],
   "source": [
    "#### Loading the dataset ####\n",
    "crops <- read_csv('YOUR/PATH/TO/crop_yield.csv')\n",
    "glimpse(crops)"
   ]
  },
  {
   "cell_type": "code",
   "execution_count": null,
   "id": "270f8c93-da8a-425a-a847-d2ab856d04ac",
   "metadata": {},
   "outputs": [],
   "source": [
    "#### Renaming variables ####\n",
    "crops <- crops %>% \n",
    "  rename(region=Region,\n",
    "         soilType=Soil_Type,\n",
    "         crop=Crop,\n",
    "         rainfall=Rainfall_mm,\n",
    "         temperature=Temperature_Celsius,\n",
    "         fertilizer=Fertilizer_Used,\n",
    "         irrigation=Irrigation_Used,\n",
    "         weather=Weather_Condition,\n",
    "         harvestingDays=Days_to_Harvest,\n",
    "         totalYield=Yield_tons_per_hectare)\n",
    "glimpse(crops)"
   ]
  },
  {
   "cell_type": "code",
   "execution_count": null,
   "id": "cb0c5324-df7f-4e67-9413-57563ab30178",
   "metadata": {},
   "outputs": [],
   "source": [
    "#### Transforming data types ####\n",
    "crops <- crops %>% \n",
    "  mutate(region=as.factor(region),\n",
    "         soilType=as.factor(soilType),\n",
    "         crop=as.factor(crop),\n",
    "         weather=as.factor(weather))\n",
    "glimpse(crops)"
   ]
  },
  {
   "cell_type": "code",
   "execution_count": null,
   "id": "4d2ea0a3-7938-43b7-a3a3-fb36084224eb",
   "metadata": {},
   "outputs": [],
   "source": [
    "#### Filtering data & Selecting relevant variables ####\n",
    "crops <- crops %>% \n",
    "  filter(region == 'South' & soilType == 'Clay' & weather == 'Sunny') %>% \n",
    "  select(-region, -soilType, -weather)"
   ]
  },
  {
   "cell_type": "code",
   "execution_count": null,
   "id": "7df64d4d-416a-4e9a-a2a2-f3cba7d78c45",
   "metadata": {},
   "outputs": [],
   "source": [
    "#### Adding residuals & Correlation to the dataset ####\n",
    "# cur_data() refers to the current data being used and can be replaced with across(everything())\n",
    "crops <- crops %>% \n",
    "  group_by(crop) %>% \n",
    "  mutate(residuals = residuals(lm(totalYield ~ rainfall + temperature, data = cur_data())), \n",
    "         rainCor = cor(crops$rainfall, crops$totalYield),\n",
    "         tempCor = cor(crops$temperature, crops$totalYield))\n",
    "glimpse(crops)"
   ]
  },
  {
   "cell_type": "code",
   "execution_count": null,
   "id": "d8965247-b81a-4871-b551-f920c4c594f4",
   "metadata": {},
   "outputs": [],
   "source": [
    "#### sub-setting the dataset by crops ####\n",
    "unique(crops$crop)\n",
    "\n",
    "# Cotton\n",
    "cotton_yield <- subset(crops, crop == 'Cotton')\n",
    "cotton_yield\n",
    "# Rice\n",
    "rice_yield <- cotton_yield <- subset(crops, crop == 'Rice')\n",
    "rice_yield\n",
    "# Barley\n",
    "barley_yield <- cotton_yield <- subset(crops, crop == 'Barley')\n",
    "barley_yield\n",
    "# Soybean\n",
    "soybean_yield <- cotton_yield <- subset(crops, crop == 'Soybean')\n",
    "soybean_yield\n",
    "# Wheat\n",
    "wheat_yield <- cotton_yield <- subset(crops, crop == 'Wheat')\n",
    "wheat_yield\n",
    "# Maize\n",
    "maize_yield <- cotton_yield <- subset(crops, crop == 'Maize')\n",
    "maize_yield"
   ]
  },
  {
   "cell_type": "markdown",
   "id": "ad910fd9-1bf6-4c3e-9ac9-b58e95ca99b1",
   "metadata": {},
   "source": [
    "---\n",
    "\n",
    "**4 – Data Modeling**\n",
    "\n",
    "---"
   ]
  },
  {
   "cell_type": "code",
   "execution_count": null,
   "id": "1256780d-8c0d-43d8-9879-9adaf3a0c6ce",
   "metadata": {},
   "outputs": [],
   "source": [
    "# Multiple regression analysis\n",
    "harvest_model <- lm(harvestingDays ~ temperature+rainfall , data=crops)\n",
    "summary(harvest_model)\n",
    "coef(harvest_model)\n",
    "\n",
    "crops_model <- lm(totalYield ~ rainfall+temperature, data=crops)\n",
    "summary(crops_model)\n",
    "coef(crops_model)"
   ]
  },
  {
   "cell_type": "code",
   "execution_count": null,
   "id": "96bad034-d866-48a2-b273-85e9f05aa0b9",
   "metadata": {},
   "outputs": [],
   "source": [
    "# Correlations\n",
    "cor(crops$rainfall, crops$totalYield) # Total yield is strongly affected by rainfall\n",
    "cor(crops$temperature, crops$totalYield) # The affect of temperature on total yield is minimal\n",
    "\n",
    "cor(crops$rainfall, crops$harvestingDays) # Harvesting days are not affected by rainfall\n",
    "cor(crops$temperature, crops$harvestingDays) # Harvesting days are not affected by temperature"
   ]
  },
  {
   "cell_type": "markdown",
   "id": "8931ad80-4910-4f87-84b4-8835e9ceed5e",
   "metadata": {},
   "source": [
    "---\n",
    "\n",
    "**5 – Predictive Analytics**\n",
    "\n",
    "---"
   ]
  },
  {
   "cell_type": "code",
   "execution_count": null,
   "id": "5e5f4c45-0df6-47c6-84dd-d68349b941e0",
   "metadata": {},
   "outputs": [],
   "source": [
    "# Ranges\n",
    "rainfall_range <- seq(min(crops$rainfall), max(crops$rainfall), length.out = 100)\n",
    "temperature_range <- seq(min(crops$temperature), max(crops$temperature), length.out = 100)\n",
    "prediction_grid <- expand.grid(rainfall = rainfall_range, temperature = temperature_range) # unique combination of rainfall and temperature"
   ]
  },
  {
   "cell_type": "code",
   "execution_count": null,
   "id": "90efb78a-705e-42de-a83b-b4473034e15f",
   "metadata": {},
   "outputs": [],
   "source": [
    "# Model\n",
    "predict_model <- lm(totalYield ~ rainfall + temperature, data = crops)"
   ]
  },
  {
   "cell_type": "code",
   "execution_count": null,
   "id": "f8b26456-f21e-4689-8e11-e953079859af",
   "metadata": {},
   "outputs": [],
   "source": [
    "# Predictions\n",
    "prediction_grid$predicted_yield <- predict(predict_model, newdata = prediction_grid)"
   ]
  },
  {
   "cell_type": "code",
   "execution_count": null,
   "id": "f696af8f-16bc-43a4-9b8c-789b4820f20d",
   "metadata": {},
   "outputs": [],
   "source": [
    "# Optimal ranges\n",
    "optimal_ranges <- prediction_grid %>%\n",
    "  summarise(optimal_rainfall = rainfall[max(predicted_yield)],\n",
    "            optimal_temperature = temperature[max(predicted_yield)])\n",
    "print(optimal_ranges)"
   ]
  },
  {
   "cell_type": "markdown",
   "id": "f765b25d-a5c8-4ba1-8cfe-41b7b2d97ea8",
   "metadata": {},
   "source": [
    "---\n",
    "\n",
    "**6 – Visualization**\n",
    "\n",
    "---"
   ]
  },
  {
   "cell_type": "code",
   "execution_count": null,
   "id": "cac9209f-f783-4aaf-9f18-c9c8f32fd76d",
   "metadata": {},
   "outputs": [],
   "source": [
    "# rainfall Vs. totalYield (for each crop)\n",
    "ggplot(crops, aes(x = rainfall, y = totalYield, color = crop)) +\n",
    "  labs(title = 'Rainfall vs. Yield for Each Crop', \n",
    "       x = 'Rainfall (mm)', \n",
    "       y = 'Total yield (Tons/Hectare)') +\n",
    "  geom_point() +\n",
    "  geom_smooth(method = 'lm', col='blue') +\n",
    "  facet_wrap(~ crop)"
   ]
  },
  {
   "cell_type": "code",
   "execution_count": null,
   "id": "a2853ac5-30bf-4775-905b-c7b09b3fa40f",
   "metadata": {},
   "outputs": [],
   "source": [
    "# rainfall Vs. totalYield (Fertilizer)\n",
    "ggplot(crops, aes(x = rainfall, y = totalYield, color = fertilizer)) +\n",
    "  labs(title='Rainfall Vs. Total Yield (Effect of Fertilizer on Crops)',\n",
    "       x='Rainfall (mm)', \n",
    "       y='Total yield (Tons/Hectare)') +\n",
    "  geom_point()+\n",
    "  geom_smooth(method='lm', col='brown') +\n",
    "  facet_wrap(~ crop)"
   ]
  },
  {
   "cell_type": "code",
   "execution_count": null,
   "id": "9494f344-2aa7-4912-a18d-39c6d78a49d4",
   "metadata": {},
   "outputs": [],
   "source": [
    "# rainfall Vs. totalYield (Irrigation)\n",
    "ggplot(crops, aes(x = rainfall, y = totalYield, color = irrigation)) +\n",
    "  labs(title='Rainfall Vs. Total Yield (Effect of Irrigation on Crops)',\n",
    "       x='Rainfall (mm)', \n",
    "       y='Total yield (Tons/Hectare)') +\n",
    "  geom_point()+\n",
    "  geom_smooth(method='lm', col='brown') +\n",
    "  facet_wrap(~ crop)"
   ]
  },
  {
   "cell_type": "code",
   "execution_count": null,
   "id": "bb929965-a62b-4988-b1c0-55eed633df73",
   "metadata": {},
   "outputs": [],
   "source": [
    "# rainfall Vs. residuals (for each crop)\n",
    "ggplot(crops, aes(x = rainfall, y = residuals, color = crop)) +\n",
    "  labs(title='Rainfall Vs. Residuals for Each Crop',\n",
    "       x='Rainfall (mm)', \n",
    "       y='Residuals') +\n",
    "  geom_point()+\n",
    "  geom_smooth(method='lm', col='black') +\n",
    "  facet_wrap(~ crop)"
   ]
  },
  {
   "cell_type": "code",
   "execution_count": null,
   "id": "0c9ec927-f876-4a3c-a1b4-5c200751466f",
   "metadata": {},
   "outputs": [],
   "source": [
    "# Prediction of Rainfall on Total Yield\n",
    "ggplot(prediction_grid, aes(x = rainfall, y = predicted_yield)) +\n",
    "  labs(title='Prediction: Rainfall Vs. Predicted Yield',\n",
    "       x='Rainfall (mm)', \n",
    "       y='Total Yield') +\n",
    "  geom_point()+\n",
    "  geom_smooth(method='lm', col='orange')"
   ]
  },
  {
   "cell_type": "code",
   "execution_count": null,
   "id": "8446b9ec-181a-4570-9f05-05c532aa96e5",
   "metadata": {},
   "outputs": [],
   "source": [
    "# Prediction of Temperature on Total Yield\n",
    "ggplot(prediction_grid, aes(x = temperature, y = predicted_yield)) +\n",
    "  labs(title='Prediction: Temperature Vs. Predicted Yield',\n",
    "       x='Temperature °C', \n",
    "       y='Total Yield') +\n",
    "  geom_point()+\n",
    "  geom_smooth(method='lm', col='orange')"
   ]
  },
  {
   "cell_type": "markdown",
   "id": "31da5b4f-c603-4aea-a326-bba408bc0730",
   "metadata": {},
   "source": [
    "---\n",
    "\n",
    "**7 – Evaluation**\n",
    "\n",
    "---"
   ]
  },
  {
   "cell_type": "markdown",
   "id": "c69147d8-a9b0-4811-a4a5-e3ff629fc30c",
   "metadata": {},
   "source": [
    "- Total yield is strongly affected by rainfall\n",
    "- The affect of temperature on total yield is minimal\n",
    "- Harvesting days are not affected by rainfall\n",
    "- Harvesting days are not affected by temperature\n",
    "- Optimal Rainfall: 154.5653 mm\n",
    "- Optimal Temperature: 15 °C"
   ]
  }
 ],
 "metadata": {
  "kernelspec": {
   "display_name": "R",
   "language": "R",
   "name": "ir"
  },
  "language_info": {
   "codemirror_mode": "r",
   "file_extension": ".r",
   "mimetype": "text/x-r-source",
   "name": "R",
   "pygments_lexer": "r",
   "version": "3.6.1"
  }
 },
 "nbformat": 4,
 "nbformat_minor": 5
}
